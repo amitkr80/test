{
 "cells": [
  {
   "cell_type": "code",
   "execution_count": 3,
   "id": "2cc7fb00",
   "metadata": {},
   "outputs": [
    {
     "name": "stdout",
     "output_type": "stream",
     "text": [
      "Are you hungry ? (Y/N) n\n"
     ]
    }
   ],
   "source": [
    "hungry=input(\"Are you hungry ? (Y/N) \")"
   ]
  },
  {
   "cell_type": "code",
   "execution_count": 4,
   "id": "6a687d1b",
   "metadata": {},
   "outputs": [
    {
     "name": "stdout",
     "output_type": "stream",
     "text": [
      "No, I'm not hungry.\n"
     ]
    }
   ],
   "source": [
    "if hungry=='Y' or hungry=='y':\n",
    "    print(\"Yes, I'm hungry.\")\n",
    "else:\n",
    "    print(\"No, I'm not hungry.\")"
   ]
  },
  {
   "cell_type": "code",
   "execution_count": null,
   "id": "653d14f7",
   "metadata": {},
   "outputs": [],
   "source": []
  }
 ],
 "metadata": {
  "kernelspec": {
   "display_name": "Python 3 (ipykernel)",
   "language": "python",
   "name": "python3"
  },
  "language_info": {
   "codemirror_mode": {
    "name": "ipython",
    "version": 3
   },
   "file_extension": ".py",
   "mimetype": "text/x-python",
   "name": "python",
   "nbconvert_exporter": "python",
   "pygments_lexer": "ipython3",
   "version": "3.9.7"
  }
 },
 "nbformat": 4,
 "nbformat_minor": 5
}
